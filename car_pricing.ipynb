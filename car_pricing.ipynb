{
 "cells": [
  {
   "cell_type": "code",
   "execution_count": 406,
   "metadata": {
    "ExecuteTime": {
     "end_time": "2023-06-23T14:38:19.295415Z",
     "start_time": "2023-06-23T14:38:19.271437Z"
    }
   },
   "outputs": [],
   "source": [
    "import numpy as np\n",
    "import pandas as pd\n",
    "import matplotlib.pyplot as plt\n",
    "import seaborn as sns\n",
    "from sklearn.model_selection import train_test_split\n",
    "from sklearn.linear_model import LinearRegression\n",
    "from sklearn.linear_model import LogisticRegression\n",
    "from sklearn.metrics import r2_score, confusion_matrix, mean_squared_error\n",
    "from sklearn.preprocessing import StandardScaler\n",
    "import statsmodels.api as sm\n",
    "from statsmodels.stats.outliers_influence import variance_inflation_factor\n",
    "from sklearn.linear_model import Ridge\n",
    "from sklearn.linear_model import Lasso\n",
    "from sklearn.tree import DecisionTreeRegressor\n",
    "from sklearn import tree"
   ]
  },
  {
   "cell_type": "code",
   "execution_count": 407,
   "metadata": {
    "ExecuteTime": {
     "end_time": "2023-06-23T14:38:19.431230Z",
     "start_time": "2023-06-23T14:38:19.295415Z"
    }
   },
   "outputs": [
    {
     "data": {
      "text/html": [
       "<div>\n",
       "<style scoped>\n",
       "    .dataframe tbody tr th:only-of-type {\n",
       "        vertical-align: middle;\n",
       "    }\n",
       "\n",
       "    .dataframe tbody tr th {\n",
       "        vertical-align: top;\n",
       "    }\n",
       "\n",
       "    .dataframe thead th {\n",
       "        text-align: right;\n",
       "    }\n",
       "</style>\n",
       "<table border=\"1\" class=\"dataframe\">\n",
       "  <thead>\n",
       "    <tr style=\"text-align: right;\">\n",
       "      <th></th>\n",
       "      <th>name</th>\n",
       "      <th>year</th>\n",
       "      <th>selling_price</th>\n",
       "      <th>km_driven</th>\n",
       "      <th>fuel</th>\n",
       "      <th>seller_type</th>\n",
       "      <th>transmission</th>\n",
       "      <th>owner</th>\n",
       "    </tr>\n",
       "  </thead>\n",
       "  <tbody>\n",
       "    <tr>\n",
       "      <th>0</th>\n",
       "      <td>Maruti 800 AC</td>\n",
       "      <td>2007</td>\n",
       "      <td>60000</td>\n",
       "      <td>70000</td>\n",
       "      <td>Petrol</td>\n",
       "      <td>Individual</td>\n",
       "      <td>Manual</td>\n",
       "      <td>First Owner</td>\n",
       "    </tr>\n",
       "    <tr>\n",
       "      <th>1</th>\n",
       "      <td>Maruti Wagon R LXI Minor</td>\n",
       "      <td>2007</td>\n",
       "      <td>135000</td>\n",
       "      <td>50000</td>\n",
       "      <td>Petrol</td>\n",
       "      <td>Individual</td>\n",
       "      <td>Manual</td>\n",
       "      <td>First Owner</td>\n",
       "    </tr>\n",
       "    <tr>\n",
       "      <th>2</th>\n",
       "      <td>Hyundai Verna 1.6 SX</td>\n",
       "      <td>2012</td>\n",
       "      <td>600000</td>\n",
       "      <td>100000</td>\n",
       "      <td>Diesel</td>\n",
       "      <td>Individual</td>\n",
       "      <td>Manual</td>\n",
       "      <td>First Owner</td>\n",
       "    </tr>\n",
       "    <tr>\n",
       "      <th>3</th>\n",
       "      <td>Datsun RediGO T Option</td>\n",
       "      <td>2017</td>\n",
       "      <td>250000</td>\n",
       "      <td>46000</td>\n",
       "      <td>Petrol</td>\n",
       "      <td>Individual</td>\n",
       "      <td>Manual</td>\n",
       "      <td>First Owner</td>\n",
       "    </tr>\n",
       "    <tr>\n",
       "      <th>4</th>\n",
       "      <td>Honda Amaze VX i-DTEC</td>\n",
       "      <td>2014</td>\n",
       "      <td>450000</td>\n",
       "      <td>141000</td>\n",
       "      <td>Diesel</td>\n",
       "      <td>Individual</td>\n",
       "      <td>Manual</td>\n",
       "      <td>Second Owner</td>\n",
       "    </tr>\n",
       "  </tbody>\n",
       "</table>\n",
       "</div>"
      ],
      "text/plain": [
       "                       name  year  selling_price  km_driven    fuel  \\\n",
       "0             Maruti 800 AC  2007          60000      70000  Petrol   \n",
       "1  Maruti Wagon R LXI Minor  2007         135000      50000  Petrol   \n",
       "2      Hyundai Verna 1.6 SX  2012         600000     100000  Diesel   \n",
       "3    Datsun RediGO T Option  2017         250000      46000  Petrol   \n",
       "4     Honda Amaze VX i-DTEC  2014         450000     141000  Diesel   \n",
       "\n",
       "  seller_type transmission         owner  \n",
       "0  Individual       Manual   First Owner  \n",
       "1  Individual       Manual   First Owner  \n",
       "2  Individual       Manual   First Owner  \n",
       "3  Individual       Manual   First Owner  \n",
       "4  Individual       Manual  Second Owner  "
      ]
     },
     "execution_count": 407,
     "metadata": {},
     "output_type": "execute_result"
    }
   ],
   "source": [
    "df=pd.read_csv(\"./Car_Detail.csv\",low_memory=False)\n",
    "df.head()"
   ]
  },
  {
   "cell_type": "code",
   "execution_count": 408,
   "metadata": {
    "ExecuteTime": {
     "end_time": "2023-06-23T14:38:19.528763Z",
     "start_time": "2023-06-23T14:38:19.431230Z"
    }
   },
   "outputs": [
    {
     "name": "stdout",
     "output_type": "stream",
     "text": [
      "Number of Rows:  4340\n",
      "Number of Columns:  10 \n",
      "\n",
      "Columns Names: Index(['name', 'year', 'selling_price', 'km_driven', 'fuel', 'seller_type',\n",
      "       'transmission', 'owner', 'car_maker', 'car_model'],\n",
      "      dtype='object') \n",
      "\n",
      "SubSet of Data:\n",
      "                         name  year  selling_price  km_driven    fuel seller_type transmission         owner car_maker car_model\n",
      "0             Maruti 800 AC  2007          60000      70000  Petrol  Individual       Manual   First Owner    Maruti       800\n",
      "1  Maruti Wagon R LXI Minor  2007         135000      50000  Petrol  Individual       Manual   First Owner    Maruti     Wagon\n",
      "2      Hyundai Verna 1.6 SX  2012         600000     100000  Diesel  Individual       Manual   First Owner   Hyundai     Verna\n",
      "3    Datsun RediGO T Option  2017         250000      46000  Petrol  Individual       Manual   First Owner    Datsun    RediGO\n",
      "4     Honda Amaze VX i-DTEC  2014         450000     141000  Diesel  Individual       Manual  Second Owner     Honda     Amaze \n",
      "\n",
      "Data Information: \n",
      "<class 'pandas.core.frame.DataFrame'>\n",
      "RangeIndex: 4340 entries, 0 to 4339\n",
      "Data columns (total 10 columns):\n",
      " #   Column         Non-Null Count  Dtype \n",
      "---  ------         --------------  ----- \n",
      " 0   name           4340 non-null   object\n",
      " 1   year           4340 non-null   int64 \n",
      " 2   selling_price  4340 non-null   int64 \n",
      " 3   km_driven      4340 non-null   int64 \n",
      " 4   fuel           4340 non-null   object\n",
      " 5   seller_type    4340 non-null   object\n",
      " 6   transmission   4340 non-null   object\n",
      " 7   owner          4340 non-null   object\n",
      " 8   car_maker      4340 non-null   object\n",
      " 9   car_model      4340 non-null   object\n",
      "dtypes: int64(3), object(7)\n",
      "memory usage: 339.2+ KB\n",
      "None \n",
      "\n",
      "Data Describe:\n",
      "                year  selling_price      km_driven\n",
      "count  4340.000000   4.340000e+03    4340.000000\n",
      "mean   2013.090783   5.041273e+05   66215.777419\n",
      "std       4.215344   5.785487e+05   46644.102194\n",
      "min    1992.000000   2.000000e+04       1.000000\n",
      "25%    2011.000000   2.087498e+05   35000.000000\n",
      "50%    2014.000000   3.500000e+05   60000.000000\n",
      "75%    2016.000000   6.000000e+05   90000.000000\n",
      "max    2020.000000   8.900000e+06  806599.000000 \n",
      "\n"
     ]
    }
   ],
   "source": [
    "#  Data Exploration\n",
    "print('Number of Rows: ', data.shape[0])\n",
    "print('Number of Columns: ', data.shape[1], '\\n')\n",
    "print('Columns Names:', data.columns, '\\n')\n",
    "print('SubSet of Data:\\n ', data.head().to_string(), '\\n')\n",
    "print('Data Information: '); print(data.info(), '\\n')\n",
    "print('Data Describe:\\n ', data.describe(), '\\n')"
   ]
  },
  {
   "cell_type": "code",
   "execution_count": 409,
   "metadata": {
    "ExecuteTime": {
     "end_time": "2023-06-23T14:38:19.549204Z",
     "start_time": "2023-06-23T14:38:19.533181Z"
    }
   },
   "outputs": [
    {
     "data": {
      "text/plain": [
       "(4340, 8)"
      ]
     },
     "execution_count": 409,
     "metadata": {},
     "output_type": "execute_result"
    }
   ],
   "source": [
    "df.shape"
   ]
  },
  {
   "cell_type": "code",
   "execution_count": 410,
   "metadata": {
    "ExecuteTime": {
     "end_time": "2023-06-23T14:38:19.580281Z",
     "start_time": "2023-06-23T14:38:19.554675Z"
    }
   },
   "outputs": [
    {
     "data": {
      "text/plain": [
       "owner            0.0\n",
       "transmission     0.0\n",
       "seller_type      0.0\n",
       "fuel             0.0\n",
       "km_driven        0.0\n",
       "selling_price    0.0\n",
       "year             0.0\n",
       "name             0.0\n",
       "dtype: float64"
      ]
     },
     "execution_count": 410,
     "metadata": {},
     "output_type": "execute_result"
    }
   ],
   "source": [
    "# Top ten columns with missing values %\n",
    "missing = df.count()/len(df)\n",
    "missing = (1-missing)*100\n",
    "missing.sort_values(ascending=False).head(10)"
   ]
  },
  {
   "cell_type": "code",
   "execution_count": 411,
   "metadata": {
    "ExecuteTime": {
     "end_time": "2023-06-23T14:38:19.628960Z",
     "start_time": "2023-06-23T14:38:19.585060Z"
    }
   },
   "outputs": [
    {
     "name": "stdout",
     "output_type": "stream",
     "text": [
      "True\n",
      "Number of duplicated data:  763\n"
     ]
    }
   ],
   "source": [
    "# Check for duplicates\n",
    "print(df.duplicated().any())\n",
    "duplicated = df.duplicated()\n",
    "print('Number of duplicated data: ', duplicated[duplicated == True].size)"
   ]
  },
  {
   "cell_type": "code",
   "execution_count": 412,
   "metadata": {
    "ExecuteTime": {
     "end_time": "2023-06-23T14:38:19.669965Z",
     "start_time": "2023-06-23T14:38:19.628960Z"
    }
   },
   "outputs": [
    {
     "name": "stdout",
     "output_type": "stream",
     "text": [
      "Categorical Data: \n",
      "Fuel unique values:  ['Petrol' 'Diesel' 'CNG' 'LPG' 'Electric']\n",
      "Number of unique values:  5\n",
      "Seller type unique values:  ['Individual' 'Dealer' 'Trustmark Dealer']\n",
      "Number of unique values:  3\n",
      "Transmission unique values:  ['Manual' 'Automatic']\n",
      "Number of unique values:  2\n",
      "Owner unique values:  ['First Owner' 'Second Owner' 'Fourth & Above Owner' 'Third Owner'\n",
      " 'Test Drive Car']\n",
      "Number of unique values:  5\n"
     ]
    }
   ],
   "source": [
    "print('Categorical Data: ')\n",
    "print('Fuel unique values: ', df['fuel'].unique())\n",
    "print('Number of unique values: ', df['fuel'].unique().size)\n",
    "print('Seller type unique values: ', df['seller_type'].unique())\n",
    "print('Number of unique values: ', df['seller_type'].unique().size)\n",
    "print('Transmission unique values: ', df['transmission'].unique())\n",
    "print('Number of unique values: ', df['transmission'].unique().size)\n",
    "print('Owner unique values: ', df['owner'].unique())\n",
    "print('Number of unique values: ', df['owner'].unique().size)"
   ]
  },
  {
   "cell_type": "code",
   "execution_count": 413,
   "metadata": {
    "ExecuteTime": {
     "end_time": "2023-06-23T14:38:19.701963Z",
     "start_time": "2023-06-23T14:38:19.677926Z"
    }
   },
   "outputs": [
    {
     "name": "stdout",
     "output_type": "stream",
     "text": [
      "Unique name of Cars:  1491\n"
     ]
    }
   ],
   "source": [
    "# Unique name cars\n",
    "print('Unique name of Cars: ', df['name'].unique().size)"
   ]
  },
  {
   "cell_type": "code",
   "execution_count": 414,
   "metadata": {
    "ExecuteTime": {
     "end_time": "2023-06-23T14:38:19.766693Z",
     "start_time": "2023-06-23T14:38:19.704025Z"
    }
   },
   "outputs": [
    {
     "name": "stdout",
     "output_type": "stream",
     "text": [
      "Data After Splitting car Name\n",
      "                       name  year  selling_price  km_driven    fuel seller_type transmission         owner car_maker car_model\n",
      "0             Maruti 800 AC  2007          60000      70000  Petrol  Individual       Manual   First Owner    Maruti       800\n",
      "1  Maruti Wagon R LXI Minor  2007         135000      50000  Petrol  Individual       Manual   First Owner    Maruti     Wagon\n",
      "2      Hyundai Verna 1.6 SX  2012         600000     100000  Diesel  Individual       Manual   First Owner   Hyundai     Verna\n",
      "3    Datsun RediGO T Option  2017         250000      46000  Petrol  Individual       Manual   First Owner    Datsun    RediGO\n",
      "4     Honda Amaze VX i-DTEC  2014         450000     141000  Diesel  Individual       Manual  Second Owner     Honda     Amaze\n"
     ]
    }
   ],
   "source": [
    "# name splitting\n",
    "name = df['name'].str.split(' ', expand=True)\n",
    "df['car_maker'] = name[0]\n",
    "df['car_model'] = name[1]\n",
    "print('Data After Splitting car Name')\n",
    "print(df.head().to_string())"
   ]
  },
  {
   "cell_type": "code",
   "execution_count": 415,
   "metadata": {
    "ExecuteTime": {
     "end_time": "2023-06-23T14:38:19.782786Z",
     "start_time": "2023-06-23T14:38:19.767833Z"
    }
   },
   "outputs": [],
   "source": [
    "data=df.copy()"
   ]
  },
  {
   "cell_type": "code",
   "execution_count": 416,
   "metadata": {
    "ExecuteTime": {
     "end_time": "2023-06-23T14:38:19.847131Z",
     "start_time": "2023-06-23T14:38:19.783339Z"
    }
   },
   "outputs": [
    {
     "name": "stdout",
     "output_type": "stream",
     "text": [
      "**********************************************************************************\n",
      "Data Types after Replacement:\n",
      "  name               object\n",
      "year                int64\n",
      "selling_price       int64\n",
      "km_driven           int64\n",
      "fuel                int64\n",
      "seller_type         int64\n",
      "transmission        int64\n",
      "owner               int64\n",
      "car_maker          object\n",
      "car_model          object\n",
      "number_of_years     int64\n",
      "dtype: object\n",
      "                       name  year  selling_price  km_driven  fuel  seller_type  transmission  owner car_maker car_model  number_of_years\n",
      "0             Maruti 800 AC  2007          60000      70000     1            1             0      1    Maruti       800               16\n",
      "1  Maruti Wagon R LXI Minor  2007         135000      50000     1            1             0      1    Maruti     Wagon               16\n",
      "2      Hyundai Verna 1.6 SX  2012         600000     100000     2            1             0      1   Hyundai     Verna               11\n",
      "3    Datsun RediGO T Option  2017         250000      46000     1            1             0      1    Datsun    RediGO                6\n",
      "4     Honda Amaze VX i-DTEC  2014         450000     141000     2            1             0      2     Honda     Amaze                9\n"
     ]
    }
   ],
   "source": [
    "df['fuel'].replace(['Petrol', 'Diesel', 'LPG', 'CNG', 'Electric'], [1, 2, 3, 4, 5], inplace=True)\n",
    "df['seller_type'].replace(['Individual', 'Dealer', 'Trustmark Dealer'], [1, 2, 3], inplace=True)\n",
    "df['transmission'].replace(['Manual', 'Automatic'], [0, 1], inplace=True)\n",
    "df['owner'].replace(['First Owner', 'Second Owner', 'Third Owner', 'Fourth & Above Owner', 'Test Drive Car'],\n",
    "                      [1, 2, 3, 4, 0], inplace=True)\n",
    "df['number_of_years'] = 2023 - df['year']\n",
    "print('**********************************************************************************')\n",
    "print('Data Types after Replacement:\\n ', df.dtypes)\n",
    "print(df.head().to_string())"
   ]
  },
  {
   "cell_type": "code",
   "execution_count": 417,
   "metadata": {
    "ExecuteTime": {
     "end_time": "2023-06-23T14:38:19.889591Z",
     "start_time": "2023-06-23T14:38:19.849431Z"
    }
   },
   "outputs": [
    {
     "data": {
      "text/html": [
       "<div>\n",
       "<style scoped>\n",
       "    .dataframe tbody tr th:only-of-type {\n",
       "        vertical-align: middle;\n",
       "    }\n",
       "\n",
       "    .dataframe tbody tr th {\n",
       "        vertical-align: top;\n",
       "    }\n",
       "\n",
       "    .dataframe thead th {\n",
       "        text-align: right;\n",
       "    }\n",
       "</style>\n",
       "<table border=\"1\" class=\"dataframe\">\n",
       "  <thead>\n",
       "    <tr style=\"text-align: right;\">\n",
       "      <th></th>\n",
       "      <th>name</th>\n",
       "      <th>year</th>\n",
       "      <th>selling_price</th>\n",
       "      <th>km_driven</th>\n",
       "      <th>fuel</th>\n",
       "      <th>seller_type</th>\n",
       "      <th>transmission</th>\n",
       "      <th>owner</th>\n",
       "      <th>car_maker</th>\n",
       "      <th>car_model</th>\n",
       "      <th>number_of_years</th>\n",
       "    </tr>\n",
       "  </thead>\n",
       "  <tbody>\n",
       "    <tr>\n",
       "      <th>0</th>\n",
       "      <td>Maruti 800 AC</td>\n",
       "      <td>2007</td>\n",
       "      <td>60000</td>\n",
       "      <td>70000</td>\n",
       "      <td>1</td>\n",
       "      <td>1</td>\n",
       "      <td>0</td>\n",
       "      <td>1</td>\n",
       "      <td>Maruti</td>\n",
       "      <td>800</td>\n",
       "      <td>16</td>\n",
       "    </tr>\n",
       "    <tr>\n",
       "      <th>1</th>\n",
       "      <td>Maruti Wagon R LXI Minor</td>\n",
       "      <td>2007</td>\n",
       "      <td>135000</td>\n",
       "      <td>50000</td>\n",
       "      <td>1</td>\n",
       "      <td>1</td>\n",
       "      <td>0</td>\n",
       "      <td>1</td>\n",
       "      <td>Maruti</td>\n",
       "      <td>Wagon</td>\n",
       "      <td>16</td>\n",
       "    </tr>\n",
       "    <tr>\n",
       "      <th>2</th>\n",
       "      <td>Hyundai Verna 1.6 SX</td>\n",
       "      <td>2012</td>\n",
       "      <td>600000</td>\n",
       "      <td>100000</td>\n",
       "      <td>2</td>\n",
       "      <td>1</td>\n",
       "      <td>0</td>\n",
       "      <td>1</td>\n",
       "      <td>Hyundai</td>\n",
       "      <td>Verna</td>\n",
       "      <td>11</td>\n",
       "    </tr>\n",
       "    <tr>\n",
       "      <th>3</th>\n",
       "      <td>Datsun RediGO T Option</td>\n",
       "      <td>2017</td>\n",
       "      <td>250000</td>\n",
       "      <td>46000</td>\n",
       "      <td>1</td>\n",
       "      <td>1</td>\n",
       "      <td>0</td>\n",
       "      <td>1</td>\n",
       "      <td>Datsun</td>\n",
       "      <td>RediGO</td>\n",
       "      <td>6</td>\n",
       "    </tr>\n",
       "    <tr>\n",
       "      <th>4</th>\n",
       "      <td>Honda Amaze VX i-DTEC</td>\n",
       "      <td>2014</td>\n",
       "      <td>450000</td>\n",
       "      <td>141000</td>\n",
       "      <td>2</td>\n",
       "      <td>1</td>\n",
       "      <td>0</td>\n",
       "      <td>2</td>\n",
       "      <td>Honda</td>\n",
       "      <td>Amaze</td>\n",
       "      <td>9</td>\n",
       "    </tr>\n",
       "  </tbody>\n",
       "</table>\n",
       "</div>"
      ],
      "text/plain": [
       "                       name  year  selling_price  km_driven  fuel  \\\n",
       "0             Maruti 800 AC  2007          60000      70000     1   \n",
       "1  Maruti Wagon R LXI Minor  2007         135000      50000     1   \n",
       "2      Hyundai Verna 1.6 SX  2012         600000     100000     2   \n",
       "3    Datsun RediGO T Option  2017         250000      46000     1   \n",
       "4     Honda Amaze VX i-DTEC  2014         450000     141000     2   \n",
       "\n",
       "   seller_type  transmission  owner car_maker car_model  number_of_years  \n",
       "0            1             0      1    Maruti       800               16  \n",
       "1            1             0      1    Maruti     Wagon               16  \n",
       "2            1             0      1   Hyundai     Verna               11  \n",
       "3            1             0      1    Datsun    RediGO                6  \n",
       "4            1             0      2     Honda     Amaze                9  "
      ]
     },
     "execution_count": 417,
     "metadata": {},
     "output_type": "execute_result"
    }
   ],
   "source": [
    "df.head()"
   ]
  },
  {
   "cell_type": "code",
   "execution_count": 418,
   "metadata": {
    "ExecuteTime": {
     "end_time": "2023-06-23T14:38:19.931013Z",
     "start_time": "2023-06-23T14:38:19.894035Z"
    }
   },
   "outputs": [
    {
     "data": {
      "text/html": [
       "<div>\n",
       "<style scoped>\n",
       "    .dataframe tbody tr th:only-of-type {\n",
       "        vertical-align: middle;\n",
       "    }\n",
       "\n",
       "    .dataframe tbody tr th {\n",
       "        vertical-align: top;\n",
       "    }\n",
       "\n",
       "    .dataframe thead th {\n",
       "        text-align: right;\n",
       "    }\n",
       "</style>\n",
       "<table border=\"1\" class=\"dataframe\">\n",
       "  <thead>\n",
       "    <tr style=\"text-align: right;\">\n",
       "      <th></th>\n",
       "      <th>name</th>\n",
       "      <th>selling_price</th>\n",
       "      <th>km_driven</th>\n",
       "      <th>fuel</th>\n",
       "      <th>seller_type</th>\n",
       "      <th>transmission</th>\n",
       "      <th>owner</th>\n",
       "      <th>car_maker</th>\n",
       "      <th>car_model</th>\n",
       "      <th>number_of_years</th>\n",
       "      <th>No_of_total_years</th>\n",
       "    </tr>\n",
       "  </thead>\n",
       "  <tbody>\n",
       "    <tr>\n",
       "      <th>0</th>\n",
       "      <td>Maruti 800 AC</td>\n",
       "      <td>60000</td>\n",
       "      <td>70000</td>\n",
       "      <td>1</td>\n",
       "      <td>1</td>\n",
       "      <td>0</td>\n",
       "      <td>1</td>\n",
       "      <td>Maruti</td>\n",
       "      <td>800</td>\n",
       "      <td>16</td>\n",
       "      <td>16</td>\n",
       "    </tr>\n",
       "    <tr>\n",
       "      <th>1</th>\n",
       "      <td>Maruti Wagon R LXI Minor</td>\n",
       "      <td>135000</td>\n",
       "      <td>50000</td>\n",
       "      <td>1</td>\n",
       "      <td>1</td>\n",
       "      <td>0</td>\n",
       "      <td>1</td>\n",
       "      <td>Maruti</td>\n",
       "      <td>Wagon</td>\n",
       "      <td>16</td>\n",
       "      <td>16</td>\n",
       "    </tr>\n",
       "    <tr>\n",
       "      <th>2</th>\n",
       "      <td>Hyundai Verna 1.6 SX</td>\n",
       "      <td>600000</td>\n",
       "      <td>100000</td>\n",
       "      <td>2</td>\n",
       "      <td>1</td>\n",
       "      <td>0</td>\n",
       "      <td>1</td>\n",
       "      <td>Hyundai</td>\n",
       "      <td>Verna</td>\n",
       "      <td>11</td>\n",
       "      <td>11</td>\n",
       "    </tr>\n",
       "    <tr>\n",
       "      <th>3</th>\n",
       "      <td>Datsun RediGO T Option</td>\n",
       "      <td>250000</td>\n",
       "      <td>46000</td>\n",
       "      <td>1</td>\n",
       "      <td>1</td>\n",
       "      <td>0</td>\n",
       "      <td>1</td>\n",
       "      <td>Datsun</td>\n",
       "      <td>RediGO</td>\n",
       "      <td>6</td>\n",
       "      <td>6</td>\n",
       "    </tr>\n",
       "    <tr>\n",
       "      <th>4</th>\n",
       "      <td>Honda Amaze VX i-DTEC</td>\n",
       "      <td>450000</td>\n",
       "      <td>141000</td>\n",
       "      <td>2</td>\n",
       "      <td>1</td>\n",
       "      <td>0</td>\n",
       "      <td>2</td>\n",
       "      <td>Honda</td>\n",
       "      <td>Amaze</td>\n",
       "      <td>9</td>\n",
       "      <td>9</td>\n",
       "    </tr>\n",
       "  </tbody>\n",
       "</table>\n",
       "</div>"
      ],
      "text/plain": [
       "                       name  selling_price  km_driven  fuel  seller_type  \\\n",
       "0             Maruti 800 AC          60000      70000     1            1   \n",
       "1  Maruti Wagon R LXI Minor         135000      50000     1            1   \n",
       "2      Hyundai Verna 1.6 SX         600000     100000     2            1   \n",
       "3    Datsun RediGO T Option         250000      46000     1            1   \n",
       "4     Honda Amaze VX i-DTEC         450000     141000     2            1   \n",
       "\n",
       "   transmission  owner car_maker car_model  number_of_years  No_of_total_years  \n",
       "0             0      1    Maruti       800               16                 16  \n",
       "1             0      1    Maruti     Wagon               16                 16  \n",
       "2             0      1   Hyundai     Verna               11                 11  \n",
       "3             0      1    Datsun    RediGO                6                  6  \n",
       "4             0      2     Honda     Amaze                9                  9  "
      ]
     },
     "execution_count": 418,
     "metadata": {},
     "output_type": "execute_result"
    }
   ],
   "source": [
    "df['Current_Year']=2023  #Adding the Current_Year in dataset\n",
    "\n",
    "df['No_of_total_years']=df['Current_Year']-df['year'] \n",
    "df.drop(['year','Current_Year'],axis=1,inplace=True)\n",
    "\n",
    "df.head()"
   ]
  },
  {
   "cell_type": "code",
   "execution_count": 419,
   "metadata": {
    "ExecuteTime": {
     "end_time": "2023-06-23T14:38:19.955006Z",
     "start_time": "2023-06-23T14:38:19.931013Z"
    }
   },
   "outputs": [
    {
     "data": {
      "text/plain": [
       "name                 object\n",
       "selling_price         int64\n",
       "km_driven             int64\n",
       "fuel                  int64\n",
       "seller_type           int64\n",
       "transmission          int64\n",
       "owner                 int64\n",
       "car_maker            object\n",
       "car_model            object\n",
       "number_of_years       int64\n",
       "No_of_total_years     int64\n",
       "dtype: object"
      ]
     },
     "execution_count": 419,
     "metadata": {},
     "output_type": "execute_result"
    }
   ],
   "source": [
    "df.dtypes"
   ]
  },
  {
   "cell_type": "code",
   "execution_count": 420,
   "metadata": {
    "ExecuteTime": {
     "end_time": "2023-06-23T14:38:19.979363Z",
     "start_time": "2023-06-23T14:38:19.959300Z"
    }
   },
   "outputs": [],
   "source": [
    "df.drop('name',axis=1,inplace=True)"
   ]
  },
  {
   "cell_type": "code",
   "execution_count": 421,
   "metadata": {
    "ExecuteTime": {
     "end_time": "2023-06-23T14:38:20.014376Z",
     "start_time": "2023-06-23T14:38:19.984723Z"
    }
   },
   "outputs": [],
   "source": [
    "df=pd.get_dummies(df,drop_first=True) #drop_first drops the first feature "
   ]
  },
  {
   "cell_type": "code",
   "execution_count": 432,
   "metadata": {
    "ExecuteTime": {
     "end_time": "2023-06-23T16:20:51.415314Z",
     "start_time": "2023-06-23T16:20:51.407246Z"
    }
   },
   "outputs": [
    {
     "data": {
      "text/plain": [
       "selling_price        int64\n",
       "km_driven            int64\n",
       "fuel                 int64\n",
       "seller_type          int64\n",
       "transmission         int64\n",
       "                     ...  \n",
       "car_model_Zen        uint8\n",
       "car_model_Zest       uint8\n",
       "car_model_i10        uint8\n",
       "car_model_i20        uint8\n",
       "car_model_redi-GO    uint8\n",
       "Length: 220, dtype: object"
      ]
     },
     "execution_count": 432,
     "metadata": {},
     "output_type": "execute_result"
    }
   ],
   "source": [
    "df.dtypes"
   ]
  },
  {
   "cell_type": "code",
   "execution_count": 422,
   "metadata": {
    "ExecuteTime": {
     "end_time": "2023-06-23T14:38:20.046275Z",
     "start_time": "2023-06-23T14:38:20.016943Z"
    }
   },
   "outputs": [
    {
     "name": "stdout",
     "output_type": "stream",
     "text": [
      "(4340, 219)\n",
      "<class 'pandas.core.frame.DataFrame'>\n",
      "(4340,)\n",
      "<class 'pandas.core.series.Series'>\n"
     ]
    }
   ],
   "source": [
    "x=df.drop('selling_price',axis=1)\n",
    "y=df['selling_price']\n",
    "print(x.shape)\n",
    "print(type(x))\n",
    "print(y.shape)\n",
    "print(type(y))"
   ]
  },
  {
   "cell_type": "code",
   "execution_count": null,
   "metadata": {
    "ExecuteTime": {
     "end_time": "2023-06-23T14:35:47.427927Z",
     "start_time": "2023-06-23T14:35:47.399694Z"
    }
   },
   "outputs": [],
   "source": []
  },
  {
   "cell_type": "code",
   "execution_count": 423,
   "metadata": {
    "ExecuteTime": {
     "end_time": "2023-06-23T14:38:20.081739Z",
     "start_time": "2023-06-23T14:38:20.049870Z"
    }
   },
   "outputs": [],
   "source": [
    "x_train, x_test, y_train, y_test = train_test_split(x, y, test_size=0.2, random_state=0)"
   ]
  },
  {
   "cell_type": "code",
   "execution_count": 424,
   "metadata": {
    "ExecuteTime": {
     "end_time": "2023-06-23T14:38:20.097890Z",
     "start_time": "2023-06-23T14:38:20.081739Z"
    }
   },
   "outputs": [],
   "source": [
    "from sklearn.metrics import mean_absolute_error,mean_squared_error,r2_score"
   ]
  },
  {
   "cell_type": "code",
   "execution_count": 425,
   "metadata": {
    "ExecuteTime": {
     "end_time": "2023-06-23T14:38:20.113243Z",
     "start_time": "2023-06-23T14:38:20.097890Z"
    }
   },
   "outputs": [],
   "source": [
    "def eval_reg_metrix(ytest,ypred):\n",
    "    mae = mean_absolute_error(ytest, ypred)\n",
    "\n",
    "    mse = mean_squared_error(ytest, ypred)\n",
    "\n",
    "    r2 = r2_score(ytest, ypred)\n",
    "\n",
    "    print(\"Mean Absolute Error (MAE):\", mae)\n",
    "    print(\"Mean Squared Error (MSE):\", mse)\n",
    "    print(\"R-squared (R2):\", r2)\n",
    "\n",
    "def train_test_score(model):\n",
    "    print('Training score:', model.score(x_train, y_train))\n",
    "    print('Testing score:', model.score(x_test, y_test))\n"
   ]
  },
  {
   "cell_type": "code",
   "execution_count": 426,
   "metadata": {
    "ExecuteTime": {
     "end_time": "2023-06-23T14:38:20.196528Z",
     "start_time": "2023-06-23T14:38:20.116506Z"
    }
   },
   "outputs": [
    {
     "data": {
      "text/plain": [
       "LinearRegression()"
      ]
     },
     "execution_count": 426,
     "metadata": {},
     "output_type": "execute_result"
    }
   ],
   "source": [
    "m1=LinearRegression()\n",
    "m1.fit(x_train,y_train)"
   ]
  },
  {
   "cell_type": "code",
   "execution_count": 427,
   "metadata": {
    "ExecuteTime": {
     "end_time": "2023-06-23T14:38:20.247055Z",
     "start_time": "2023-06-23T14:38:20.196528Z"
    }
   },
   "outputs": [
    {
     "name": "stdout",
     "output_type": "stream",
     "text": [
      "Training score: 0.8996176322052579\n",
      "Testing score: 0.860165775148753\n"
     ]
    }
   ],
   "source": [
    "train_test_score(m1)"
   ]
  },
  {
   "cell_type": "code",
   "execution_count": 428,
   "metadata": {
    "ExecuteTime": {
     "end_time": "2023-06-23T14:38:20.282636Z",
     "start_time": "2023-06-23T14:38:20.256253Z"
    }
   },
   "outputs": [
    {
     "name": "stdout",
     "output_type": "stream",
     "text": [
      "[323033.46271737 797164.32822323  93808.14242933 ... 198256.75851161\n",
      " 451472.52243325 283115.90338353]\n"
     ]
    }
   ],
   "source": [
    "y_pred_train=m1.predict(x_train)\n",
    "print(y_pred_train)"
   ]
  },
  {
   "cell_type": "code",
   "execution_count": 429,
   "metadata": {
    "ExecuteTime": {
     "end_time": "2023-06-23T14:38:20.346450Z",
     "start_time": "2023-06-23T14:38:20.284315Z"
    }
   },
   "outputs": [
    {
     "name": "stdout",
     "output_type": "stream",
     "text": [
      "[ 6.62397777e+05  1.60061289e+06  1.76165435e+05  4.95000000e+06\n",
      "  7.56357446e+04  2.42730284e+05  4.95423176e+05  2.95921896e+05\n",
      "  1.05416509e+06  3.77428927e+05  4.80285832e+05  7.41046676e+05\n",
      "  7.56324303e+05  2.92612801e+05  1.33665462e+05  6.10309141e+05\n",
      "  4.37563986e+05  3.30263225e+05  1.36682762e+05  7.20736973e+05\n",
      " -1.64340337e+05  3.91176158e+05  3.76942406e+05  3.31680322e+05\n",
      "  4.17899889e+05  5.78603103e+05  5.99013394e+05  7.12669771e+05\n",
      "  5.38567391e+05  3.01749549e+05  5.86171705e+05  3.63935807e+05\n",
      "  9.13884953e+05  7.36172303e+05  2.19491126e+05  2.03933670e+05\n",
      "  1.72824659e+05  1.92002296e+05  1.34979538e+05  5.33716729e+05\n",
      "  2.18202065e+05  6.15984024e+05  4.17342067e+05  1.70474799e+06\n",
      "  5.67179380e+05  4.17438516e+05 -3.66205126e+04  2.93063976e+05\n",
      "  9.26953783e+05  1.50578838e+05  3.98238729e+04  4.58600444e+05\n",
      "  5.48269385e+05  1.06004168e+06  5.82298970e+05  4.58579226e+05\n",
      "  4.95000000e+06  3.01861425e+05  5.38137450e+05  3.24522703e+05\n",
      "  2.80153088e+05  1.15425673e+05  3.09581873e+05  4.83129317e+05\n",
      "  4.46935843e+05  7.06695218e+05  3.11484717e+05  3.20116586e+05\n",
      "  7.67347270e+05  6.29146438e+05 -1.28361078e+03  2.74685516e+05\n",
      "  2.64771509e+05  7.01774819e+05  3.04409752e+05  4.01835167e+05\n",
      "  6.36478284e+05  8.15844971e+05  6.46615426e+05  1.88061666e+05\n",
      "  4.22629805e+05  2.73522668e+05  6.57851639e+05  2.16216665e+05\n",
      "  3.79779367e+04  1.47763824e+06  8.59210668e+05  4.50216282e+05\n",
      "  9.69179690e+05  3.05803403e+05  8.48546982e+05  2.06238921e+04\n",
      "  4.24591633e+05  5.39942283e+05  3.05357834e+05  5.56766502e+05\n",
      "  4.36006589e+05  9.03041597e+04  3.96252908e+05  4.81017229e+05\n",
      "  1.50413347e+05  3.41637522e+05  3.83528428e+04  6.45920873e+05\n",
      " -2.87740010e+04  5.87302681e+05  3.21718049e+05  7.08064610e+05\n",
      "  1.44236038e+05  1.77474898e+05  3.99911112e+05  2.92769579e+05\n",
      "  2.08568027e+05  4.35221075e+05  2.88502537e+05  3.85437650e+05\n",
      "  2.28485841e+05  7.51378835e+05  6.09610840e+05  4.85132880e+04\n",
      "  3.79270270e+05  4.56159065e+05  5.94185780e+05  3.35763333e+05\n",
      "  3.05739266e+05  2.18387744e+05  1.89728800e+05  3.50551674e+05\n",
      "  8.69034065e+05  1.46797296e+05  3.37730452e+05  4.06698547e+05\n",
      " -1.54708643e+04  1.13554087e+06  3.77075402e+05  3.90376965e+05\n",
      "  4.94707763e+05 -1.80451933e+04  1.18209134e+05  3.23977101e+05\n",
      "  1.41518368e+05  2.71095895e+04  7.07575497e+05  6.50480098e+05\n",
      "  2.92181907e+05  3.28117250e+05  8.34530874e+05  5.35639070e+05\n",
      "  9.10870316e+04  1.06973049e+06  2.73226483e+05  4.50336998e+05\n",
      "  4.46506157e+05  1.10994043e+06  3.96445211e+05  4.95000000e+06\n",
      "  1.98059745e+05  2.58555616e+05  4.51708995e+05  1.60931511e+05\n",
      "  1.98256759e+05  4.65234300e+05  2.53341827e+05  6.25354789e+05\n",
      "  4.24591633e+05  2.36743955e+05  5.21903765e+05  2.33933353e+05\n",
      "  5.34532487e+05  1.03447768e+06  6.03209026e+05  7.52936078e+05\n",
      "  4.83129317e+05  6.91473676e+05  8.68906871e+05  3.08580449e+05\n",
      "  3.44304021e+05 -1.13233525e+05  3.56010554e+04  2.27153833e+05\n",
      "  1.86695281e+05  5.28466154e+05  3.30154240e+05  6.06413468e+05\n",
      "  8.11281102e+05  1.10036751e+05  8.23556343e+05  3.26632882e+05\n",
      "  1.83964359e+05  1.23146164e+05  5.40939651e+05  1.42097975e+05\n",
      "  8.37269655e+05  1.04057723e+06  2.94342166e+05  4.57006935e+05\n",
      "  1.73439273e+05  5.92017685e+05  3.23823393e+05  7.21909240e+05\n",
      "  1.74478337e+06  3.17582038e+05  6.84140259e+05  7.63666496e+05\n",
      "  2.72135367e+05  3.09575073e+05 -5.52738358e+03  6.68184062e+05\n",
      "  6.29146438e+05  5.04047216e+05 -1.52350008e+05  5.29902245e+05\n",
      "  5.18881286e+05  2.21946537e+05  3.93031652e+05  2.56948741e+05\n",
      " -1.77409167e+05  5.91243448e+05  2.72141014e+05  2.60169057e+05\n",
      "  7.90580140e+04  4.51214919e+05  4.45950968e+05  1.22316057e+06\n",
      "  7.86633566e+05  1.06070218e+04  4.44934227e+05  2.49448537e+05\n",
      "  3.35881421e+05  4.31215168e+05  2.79819968e+05  7.66136388e+05\n",
      "  9.99350952e+05  5.68408656e+05  4.80332596e+05  8.40983411e+05\n",
      "  6.71670914e+05  3.47317231e+05  3.14650655e+05  7.42587218e+05\n",
      "  5.60190544e+05  2.43308757e+05  3.16922255e+05  5.41110630e+05\n",
      "  1.02351182e+05  5.71214536e+05  1.16604458e+06  1.57543841e+05\n",
      "  7.20736973e+05  6.59881287e+05  4.75762675e+04  5.43936984e+05\n",
      "  6.04688245e+05  5.11167408e+05  4.95000000e+06  5.55078576e+05\n",
      "  2.93936205e+05  2.14828923e+05  4.34783908e+05  5.71923731e+04\n",
      "  2.46175207e+05  1.95499197e+05  2.89030375e+05  7.49805545e+05\n",
      "  7.27028902e+05  3.49603193e+05  2.25204925e+05  6.55379625e+05\n",
      "  4.67433619e+05  7.03634542e+05 -3.00686164e+04  1.27597315e+05\n",
      "  2.48884912e+05  1.93891383e+06  4.12104145e+05  7.43762900e+05\n",
      "  1.18087278e+05  3.28190707e+05  4.45735611e+05  1.54229682e+05\n",
      "  1.90725250e+06  6.94125663e+05  4.64130603e+05  2.05270980e+06\n",
      "  7.05225479e+05  2.76721390e+05  8.06669518e+05  3.43738010e+05\n",
      "  1.02558222e+06  2.63443389e+05  6.28130506e+05  8.65515705e+04\n",
      "  3.16631061e+05  5.09376521e+05  2.43936348e+06  2.32351098e+05\n",
      "  6.84244589e+05  3.80000000e+06  4.03172684e+05  5.01095557e+04\n",
      "  5.41208027e+05  1.91888860e+05  1.91153738e+06 -5.09200084e+04\n",
      "  4.45438969e+05  3.04165214e+05  8.56700322e+05  8.58186128e+05\n",
      "  5.30471999e+05  3.11025371e+05  1.93551180e+05  2.26704391e+05\n",
      "  1.90725250e+06  1.82163430e+05  7.47023645e+04  4.62437803e+05\n",
      "  5.42173675e+05  1.96997490e+05  3.36292870e+05  3.17159091e+05\n",
      "  6.27237430e+04  2.24314343e+05  3.79038479e+05  6.40882352e+05\n",
      "  1.62265912e+05  1.06004168e+06  2.61722609e+05  5.05000040e+05\n",
      "  2.79507025e+05  6.08677515e+05  1.52522310e+06  2.39117310e+06\n",
      "  3.86302850e+05  1.32380527e+05  5.91666709e+05  4.95966399e+05\n",
      "  1.93181484e+05  9.58918509e+04  2.78735031e+05  8.69034065e+05\n",
      "  4.84533611e+05  2.46454812e+05  3.49320555e+05  9.58891401e+05\n",
      "  3.53177944e+05  3.16766888e+05  1.00918447e+06  6.51677256e+05\n",
      "  6.13997292e+05  3.47559723e+05  3.02766280e+05  3.92253243e+05\n",
      "  7.95266527e+05  2.70126153e+05  5.10611646e+05  1.75887709e+05\n",
      "  4.04350557e+05  3.85225397e+05  1.98278187e+05  2.37567464e+05\n",
      "  1.57304868e+05  8.64685946e+05  2.83622698e+05  3.09356324e+05\n",
      "  3.57679853e+05  5.58976842e+05  9.12963086e+05  5.61744283e+05\n",
      " -2.31177692e+05 -5.35387263e+04  6.67797840e+05  9.56643004e+05\n",
      "  1.23559077e+06  8.68906871e+05  2.10652453e+05  5.41605776e+05\n",
      "  9.97389934e+05  5.48381151e+05  3.44943482e+05  2.39117310e+06\n",
      "  9.98301346e+05  2.67639134e+05  1.63482177e+05  3.99799059e+05\n",
      "  2.37725104e+05  3.20116586e+05  2.63671525e+05  1.18138822e+06\n",
      "  4.04808654e+05  9.35706596e+05  2.99914984e+05  3.77859619e+05\n",
      "  4.91196520e+05  4.09995546e+04 -3.85032807e+04  2.79997169e+05\n",
      "  7.07664728e+05  5.89758125e+05  8.97528759e+05  8.79655128e+05\n",
      "  6.94341519e+02  1.19752263e+06  5.82360862e+05  7.45080278e+05\n",
      "  5.75376704e+05  6.10309141e+05  6.28130506e+05  8.72382590e+05\n",
      "  1.77526808e+06  8.36926675e+05  3.24163073e+05  2.68227412e+05\n",
      "  5.64043516e+05  3.61417602e+05  1.16143239e+05  2.11869626e+05\n",
      "  4.57233311e+05  7.05079174e+05 -8.57243250e+04  4.50860506e+05\n",
      "  8.69034065e+05 -1.31075581e+05  7.13703859e+05  7.05259905e+05\n",
      "  1.02250295e+06  6.41879651e+05  3.62851601e+05 -9.25151134e+04\n",
      "  3.54036621e+05  5.82783518e+05  4.44489102e+05  7.12485962e+05\n",
      " -5.59588871e+04  3.48918517e+05  4.57328703e+05  1.60975696e+06\n",
      "  1.79717702e+06  7.91373024e+05  3.09816752e+05  5.71923731e+04\n",
      "  3.85252500e+05  7.26068918e+05  3.58473752e+05  3.04319612e+05\n",
      "  2.67208414e+05  4.19767377e+05  2.27808131e+05  8.69034065e+05\n",
      "  1.30662890e+05  8.62419577e+05  2.60046368e+05  2.60754652e+05\n",
      "  6.46348098e+05  4.45173717e+05  2.07349808e+05  3.42657404e+05\n",
      "  7.09033863e+04  2.54182527e+05  4.04088112e+05  4.15290118e+05\n",
      "  1.97400055e+05  5.05059239e+05 -1.06786548e+05  1.49197082e+05\n",
      "  1.79717702e+06  3.40274406e+05  5.78657522e+05  5.44122438e+05\n",
      "  1.33665462e+05 -4.95156549e+03  1.10467614e+05  5.02633940e+05\n",
      "  1.79219711e+05  1.65372071e+05  4.43248127e+05  1.93104276e+05\n",
      "  4.24609479e+05  1.71629517e+04  2.84741981e+05  7.79707561e+04\n",
      "  5.98272509e+05  6.14173633e+05  2.13161808e+05  1.74620519e+06\n",
      "  1.08024613e+06  4.68415122e+05  5.57740181e+05  3.43149430e+05\n",
      "  6.21579402e+05  4.46173892e+05 -2.83300156e+04  5.84541471e+05\n",
      "  4.36619368e+05  4.82932120e+05  6.43302641e+05  7.51646294e+05\n",
      "  2.97429647e+05  4.83685862e+05 -8.38344314e+04  5.93018194e+05\n",
      "  2.55134775e+05  3.54177324e+05  2.74608445e+05  3.55622324e+05\n",
      "  3.68179048e+05  1.34195730e+05  2.93764573e+05  1.66186701e+06\n",
      "  2.37692452e+05  2.29684931e+05  3.98238729e+04  1.54229682e+05\n",
      "  3.72298306e+05  6.13979634e+05  2.15646965e+06  1.21847417e+05\n",
      "  2.35392676e+05  4.77480725e+05  8.04608215e+05  1.72667803e+05\n",
      "  2.41990018e+05  1.54649220e+04  6.27972685e+05  4.61067148e+05\n",
      "  1.30599887e+05  3.53177944e+05  4.04088112e+05  4.38989074e+05\n",
      "  5.22502252e+05  4.72324337e+05  9.61420259e+05  7.14444255e+04\n",
      "  1.69097290e+05  3.87661456e+05  1.83270314e+05  4.82334103e+05\n",
      "  6.65510090e+05  6.98339514e+05 -1.42346753e+05  4.09514041e+05\n",
      "  5.15925163e+05  9.21503435e+05  1.36840199e+05  6.90643974e+05\n",
      "  3.39498159e+05  8.36614331e+05  7.10280850e+05  1.90352489e+05\n",
      "  6.18586618e+05  2.90920269e+05  9.79360158e+04  1.21929899e+05\n",
      "  5.02312636e+05  8.41034744e+05  3.55935650e+05  5.00618656e+01\n",
      "  2.86846154e+05  4.21133763e+05  3.79473060e+05  2.72541310e+05\n",
      "  4.73647733e+05  6.83305149e+05  6.86562697e+05  7.14032145e+05\n",
      "  5.32131570e+05  2.89871773e+05  5.26303350e+05  6.68996285e+05\n",
      "  9.56847758e+05  4.84742758e+05 -1.09363731e+05 -1.22994763e+05\n",
      "  2.20995394e+05  3.11071170e+05  3.49088830e+05  2.71367387e+05\n",
      "  6.14380754e+05  5.32581595e+05  2.07597746e+05  1.20055748e+05\n",
      "  6.64292366e+05  1.32568258e+05  3.05894897e+05  5.27695247e+05\n",
      "  6.34739884e+05  4.65938016e+05  5.72438774e+05  9.58187953e+05\n",
      "  1.29959478e+05  4.72006998e+05  5.12171219e+05  4.89898149e+05\n",
      "  5.15282561e+05  1.51480397e+06  1.08749643e+05  2.89604861e+05\n",
      "  1.37069560e+06  6.67797840e+05  1.81258307e+05  6.67797840e+05\n",
      "  3.87754436e+05  4.41123738e+05  8.51804440e+05  3.22520790e+05\n",
      "  2.52139125e+05  3.07298547e+05  2.61413536e+05  7.61855997e+05\n",
      "  1.66942410e+06  2.31909336e+06  1.72249976e+05  3.45025708e+05\n",
      "  3.94304876e+05  5.56843300e+05  5.78911286e+05 -1.12111175e+05\n",
      "  5.06724807e+05  8.37403387e+05  4.65839709e+05  3.35644430e+05\n",
      "  2.57540374e+05 -8.97559034e+04  5.26466587e+05  4.73709714e+05\n",
      "  3.80607046e+05  5.14435049e+05  1.91515706e+05 -7.05559226e+04\n",
      "  4.37604499e+05  3.20123504e+05  4.91644737e+05  2.58269315e+05\n",
      "  6.14173633e+05  2.96229863e+05  4.19092137e+05  3.79092248e+05\n",
      "  4.52388044e+05  9.95824806e+04  8.77405918e+05  3.80805683e+05\n",
      "  8.32498714e+05  5.88469177e+05  1.32462461e+05  3.15546020e+05\n",
      "  7.50900980e+05  8.19149942e+04  7.73292184e+05  2.87728637e+05\n",
      "  5.23270946e+05  2.47530826e+05  2.06486894e+05  2.00875493e+05\n",
      "  6.49307831e+05  4.84466612e+05  3.93733179e+05  3.33135523e+05\n",
      "  9.03416429e+05  5.65955841e+04  5.88278452e+05  7.26177311e+05\n",
      "  9.32081487e+05  9.87250148e+05  6.28003033e+05  2.10904836e+06\n",
      "  5.96099849e+05  7.25595014e+05  8.55791499e+05  9.64787694e+05\n",
      "  4.58155471e+05  9.60199989e+04  6.70087557e+05  8.50318772e+05\n",
      "  2.64096132e+05  2.39117310e+06  3.59072254e+05  1.36168835e+05\n",
      "  6.40464757e+05  8.35998761e+04  3.20808645e+05  7.15627989e+05\n",
      "  8.00356170e+05  1.17033453e+05  1.70132392e+06  6.28171798e+05\n",
      "  7.18752775e+04  4.38118323e+05  5.06102265e+05  3.26024877e+05\n",
      "  2.62354339e+05  1.52881205e+05  3.94390087e+05  3.35031243e+05\n",
      "  2.56234530e+05  2.33200089e+06  6.60055524e+05  2.50577337e+05\n",
      "  3.80246805e+05  5.06883016e+05  5.62776378e+05  5.04173790e+05\n",
      "  4.63478940e+04  5.19400005e+05  4.68415122e+05  2.83039132e+06\n",
      "  1.62723466e+06  1.33046002e+05  5.41605776e+05  1.85291839e+05\n",
      "  2.62354339e+05  6.03651947e+05  3.33023501e+05  4.63152305e+05\n",
      "  6.67787116e+04  8.48671858e+04  2.18719656e+05  3.59471013e+05\n",
      "  3.70560854e+05  2.47383006e+05  5.28544664e+05  1.85753148e+05\n",
      "  2.45569012e+05  6.83191943e+04  4.12888658e+05  1.44870352e+05\n",
      "  2.27939253e+05  2.16118348e+05  1.87270276e+05  3.31673832e+05\n",
      "  7.44095159e+05  6.40170348e+05  3.71530315e+05  1.33908645e+04\n",
      "  3.55549971e+05  4.28861278e+05  5.01713128e+05  6.10309141e+05\n",
      "  2.62796712e+05  3.18414585e+05  2.09870514e+06  3.48573724e+05\n",
      "  4.88025836e+05  4.68615241e+05  3.67765172e+05 -1.84349079e+04\n",
      "  6.53131228e+05  2.21562623e+06  6.39304576e+05  6.28235116e+05\n",
      "  3.86302850e+05  1.87926385e+05  2.96533290e+05  1.71246372e+06\n",
      "  3.67351039e+05  3.87429769e+05  7.60218158e+03  1.00523856e+06\n",
      "  1.37032172e+05  4.11055951e+05  1.42097975e+05  7.14246008e+05\n",
      "  4.79874722e+05  4.83129317e+05  4.37678496e+05  6.89063133e+05\n",
      "  3.95210368e+05  2.77547941e+05  3.26119029e+05  1.11154692e+06\n",
      "  4.24903989e+05  4.94267043e+05  1.26777609e+06  2.04182747e+05\n",
      "  4.23433797e+05  9.10870316e+04  2.10333223e+05  5.40683847e+04\n",
      "  3.72957018e+05  8.22413880e+05  4.07389701e+05  1.12886163e+06\n",
      "  3.02766280e+05  1.65828926e+05  2.79247847e+05  7.26662657e+04\n",
      "  1.00516556e+06  4.30568871e+05  2.27702602e+05 -3.91835567e+04\n",
      "  6.55098750e+05  3.27715621e+05  1.56767074e+05  1.27548727e+05\n",
      " -1.43524408e+04  5.40704077e+04  2.25001701e+04  4.45207569e+05\n",
      "  2.21735380e+05  4.41761304e+05  7.94488042e+05  8.88578207e+05\n",
      "  1.60061289e+06  5.40608963e+05  2.98987471e+05  9.25876498e+05\n",
      "  7.19807569e+05  2.46253992e+05  4.97564533e+05  3.80000000e+06\n",
      "  2.76976140e+05  2.62589218e+05  1.98780672e+05  6.05704029e+05\n",
      "  7.92506777e+05 -1.06860358e+05  1.19674765e+05  3.59969251e+05\n",
      "  1.54448971e+05  2.00706225e+05 -4.46740997e+04  5.05698545e+05\n",
      "  4.84385747e+05  2.39156129e+05  1.79219711e+05  7.91373024e+05\n",
      "  6.67797840e+05  6.87440075e+05  4.09124614e+05  4.80467712e+05\n",
      "  1.37505937e+06  3.16931873e+05  4.82816084e+05  2.17995739e+04\n",
      "  3.87218801e+05  2.79932242e+05 -7.37187140e+04  3.80000000e+06\n",
      "  1.49424842e+05  8.23904004e+05  4.62506704e+05  2.21910032e+05\n",
      "  3.34013854e+05  2.96533290e+05  7.60160748e+05 -8.16632780e+04\n",
      "  2.31713986e+05  7.49805545e+05  4.37896857e+05  2.99914984e+05\n",
      "  6.21579402e+05  8.23259245e+05  5.71923731e+04  2.13224811e+05\n",
      "  5.05165309e+05  5.63142444e+05  1.87859891e+05  1.72276462e+05\n",
      "  9.95824806e+04  9.28047886e+05  3.71178445e+05 -4.62827334e+04\n",
      "  3.97596934e+05  3.61999501e+05  2.12479603e+06  2.80561387e+04\n",
      "  2.12786782e+05  2.14051740e+05  6.88461641e+04  3.80000000e+06]\n"
     ]
    }
   ],
   "source": [
    "y_pred=m1.predict(x_test)\n",
    "print(y_pred)"
   ]
  },
  {
   "cell_type": "code",
   "execution_count": 430,
   "metadata": {
    "ExecuteTime": {
     "end_time": "2023-06-23T14:38:20.363850Z",
     "start_time": "2023-06-23T14:38:20.350666Z"
    }
   },
   "outputs": [
    {
     "name": "stdout",
     "output_type": "stream",
     "text": [
      "Mean Absolute Error (MAE): 121923.43428997787\n",
      "Mean Squared Error (MSE): 51927607581.71311\n",
      "R-squared (R2): 0.860165775148753\n"
     ]
    }
   ],
   "source": [
    "eval_reg_metrix(y_test,y_pred)"
   ]
  },
  {
   "cell_type": "code",
   "execution_count": 431,
   "metadata": {
    "ExecuteTime": {
     "end_time": "2023-06-23T14:38:20.463308Z",
     "start_time": "2023-06-23T14:38:20.364364Z"
    }
   },
   "outputs": [
    {
     "name": "stdout",
     "output_type": "stream",
     "text": [
      "\n",
      "metric                     train                test        \n",
      "r2_score            0.8996176322052579\t0.860165775148753\n",
      "mean_squared_error  32651893013.746338\t51927607581.71311\n"
     ]
    }
   ],
   "source": [
    "scores=f'''\n",
    "{'metric'.ljust(20)}{'train'.center(20)}{'test'.center(20)}\n",
    "{'r2_score'.ljust(20)}{r2_score(y_train,m1.predict(x_train))}\\t{r2_score(y_test,m1.predict(x_test))}\n",
    "{'mean_squared_error'.ljust(20)}{mean_squared_error(y_train,m1.predict(x_train))}\\t{mean_squared_error(y_test,m1.predict(x_test))}'''\n",
    "\n",
    "print(scores)"
   ]
  }
 ],
 "metadata": {
  "kernelspec": {
   "display_name": "Python 3",
   "language": "python",
   "name": "python3"
  },
  "language_info": {
   "codemirror_mode": {
    "name": "ipython",
    "version": 3
   },
   "file_extension": ".py",
   "mimetype": "text/x-python",
   "name": "python",
   "nbconvert_exporter": "python",
   "pygments_lexer": "ipython3",
   "version": "3.8.5"
  },
  "toc": {
   "base_numbering": 1,
   "nav_menu": {},
   "number_sections": true,
   "sideBar": true,
   "skip_h1_title": false,
   "title_cell": "Table of Contents",
   "title_sidebar": "Contents",
   "toc_cell": false,
   "toc_position": {},
   "toc_section_display": true,
   "toc_window_display": false
  }
 },
 "nbformat": 4,
 "nbformat_minor": 5
}
